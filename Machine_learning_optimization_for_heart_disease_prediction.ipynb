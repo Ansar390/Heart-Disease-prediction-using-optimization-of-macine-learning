{
  "cells": [
    {
      "cell_type": "markdown",
      "metadata": {
        "id": "7iwSU51CYEFa"
      },
      "source": [
        "## Importing libraries"
      ]
    },
    {
      "cell_type": "code",
      "execution_count": null,
      "metadata": {
        "id": "LT1Vc6QzYEFg"
      },
      "outputs": [],
      "source": [
        "import pandas as pd\n",
        "from sklearn.ensemble import RandomForestClassifier\n",
        "import numpy as np\n",
        "from sklearn.model_selection import GridSearchCV\n",
        "from sklearn.metrics import accuracy_score\n",
        "from sklearn import metrics\n",
        "import matplotlib\n",
        "import seaborn as sns\n",
        "import matplotlib.pyplot as plt\n",
        "%matplotlib inline\n",
        "from sklearn.model_selection import train_test_split\n",
        "from sklearn.svm import SVC\n",
        "import joblib\n",
        "from sklearn.metrics import classification_report"
      ]
    },
    {
      "cell_type": "markdown",
      "metadata": {
        "id": "SEY4Nps_YEFi"
      },
      "source": [
        "## Dataset"
      ]
    },
    {
      "cell_type": "code",
      "execution_count": null,
      "metadata": {
        "id": "vqUUUq_UYEFj",
        "outputId": "59212f91-a04e-4afb-fb20-5a2df1ec2a3f"
      },
      "outputs": [
        {
          "data": {
            "text/html": [
              "<div>\n",
              "<style scoped>\n",
              "    .dataframe tbody tr th:only-of-type {\n",
              "        vertical-align: middle;\n",
              "    }\n",
              "\n",
              "    .dataframe tbody tr th {\n",
              "        vertical-align: top;\n",
              "    }\n",
              "\n",
              "    .dataframe thead th {\n",
              "        text-align: right;\n",
              "    }\n",
              "</style>\n",
              "<table border=\"1\" class=\"dataframe\">\n",
              "  <thead>\n",
              "    <tr style=\"text-align: right;\">\n",
              "      <th></th>\n",
              "      <th>age</th>\n",
              "      <th>sex</th>\n",
              "      <th>cp</th>\n",
              "      <th>trtbps</th>\n",
              "      <th>chol</th>\n",
              "      <th>fbs</th>\n",
              "      <th>restecg</th>\n",
              "      <th>thalachh</th>\n",
              "      <th>exng</th>\n",
              "      <th>oldpeak</th>\n",
              "      <th>slp</th>\n",
              "      <th>caa</th>\n",
              "      <th>thall</th>\n",
              "      <th>output</th>\n",
              "    </tr>\n",
              "  </thead>\n",
              "  <tbody>\n",
              "    <tr>\n",
              "      <th>153</th>\n",
              "      <td>66</td>\n",
              "      <td>0</td>\n",
              "      <td>2</td>\n",
              "      <td>146</td>\n",
              "      <td>278</td>\n",
              "      <td>0</td>\n",
              "      <td>0</td>\n",
              "      <td>152</td>\n",
              "      <td>0</td>\n",
              "      <td>0.0</td>\n",
              "      <td>1</td>\n",
              "      <td>1</td>\n",
              "      <td>2</td>\n",
              "      <td>1</td>\n",
              "    </tr>\n",
              "    <tr>\n",
              "      <th>154</th>\n",
              "      <td>39</td>\n",
              "      <td>0</td>\n",
              "      <td>2</td>\n",
              "      <td>138</td>\n",
              "      <td>220</td>\n",
              "      <td>0</td>\n",
              "      <td>1</td>\n",
              "      <td>152</td>\n",
              "      <td>0</td>\n",
              "      <td>0.0</td>\n",
              "      <td>1</td>\n",
              "      <td>0</td>\n",
              "      <td>2</td>\n",
              "      <td>1</td>\n",
              "    </tr>\n",
              "    <tr>\n",
              "      <th>155</th>\n",
              "      <td>58</td>\n",
              "      <td>0</td>\n",
              "      <td>0</td>\n",
              "      <td>130</td>\n",
              "      <td>197</td>\n",
              "      <td>0</td>\n",
              "      <td>1</td>\n",
              "      <td>131</td>\n",
              "      <td>0</td>\n",
              "      <td>0.6</td>\n",
              "      <td>1</td>\n",
              "      <td>0</td>\n",
              "      <td>2</td>\n",
              "      <td>1</td>\n",
              "    </tr>\n",
              "    <tr>\n",
              "      <th>156</th>\n",
              "      <td>47</td>\n",
              "      <td>1</td>\n",
              "      <td>2</td>\n",
              "      <td>130</td>\n",
              "      <td>253</td>\n",
              "      <td>0</td>\n",
              "      <td>1</td>\n",
              "      <td>179</td>\n",
              "      <td>0</td>\n",
              "      <td>0.0</td>\n",
              "      <td>2</td>\n",
              "      <td>0</td>\n",
              "      <td>2</td>\n",
              "      <td>1</td>\n",
              "    </tr>\n",
              "    <tr>\n",
              "      <th>157</th>\n",
              "      <td>35</td>\n",
              "      <td>1</td>\n",
              "      <td>1</td>\n",
              "      <td>122</td>\n",
              "      <td>192</td>\n",
              "      <td>0</td>\n",
              "      <td>1</td>\n",
              "      <td>174</td>\n",
              "      <td>0</td>\n",
              "      <td>0.0</td>\n",
              "      <td>2</td>\n",
              "      <td>0</td>\n",
              "      <td>2</td>\n",
              "      <td>1</td>\n",
              "    </tr>\n",
              "    <tr>\n",
              "      <th>...</th>\n",
              "      <td>...</td>\n",
              "      <td>...</td>\n",
              "      <td>...</td>\n",
              "      <td>...</td>\n",
              "      <td>...</td>\n",
              "      <td>...</td>\n",
              "      <td>...</td>\n",
              "      <td>...</td>\n",
              "      <td>...</td>\n",
              "      <td>...</td>\n",
              "      <td>...</td>\n",
              "      <td>...</td>\n",
              "      <td>...</td>\n",
              "      <td>...</td>\n",
              "    </tr>\n",
              "    <tr>\n",
              "      <th>298</th>\n",
              "      <td>57</td>\n",
              "      <td>0</td>\n",
              "      <td>0</td>\n",
              "      <td>140</td>\n",
              "      <td>241</td>\n",
              "      <td>0</td>\n",
              "      <td>1</td>\n",
              "      <td>123</td>\n",
              "      <td>1</td>\n",
              "      <td>0.2</td>\n",
              "      <td>1</td>\n",
              "      <td>0</td>\n",
              "      <td>3</td>\n",
              "      <td>0</td>\n",
              "    </tr>\n",
              "    <tr>\n",
              "      <th>299</th>\n",
              "      <td>45</td>\n",
              "      <td>1</td>\n",
              "      <td>3</td>\n",
              "      <td>110</td>\n",
              "      <td>264</td>\n",
              "      <td>0</td>\n",
              "      <td>1</td>\n",
              "      <td>132</td>\n",
              "      <td>0</td>\n",
              "      <td>1.2</td>\n",
              "      <td>1</td>\n",
              "      <td>0</td>\n",
              "      <td>3</td>\n",
              "      <td>0</td>\n",
              "    </tr>\n",
              "    <tr>\n",
              "      <th>300</th>\n",
              "      <td>68</td>\n",
              "      <td>1</td>\n",
              "      <td>0</td>\n",
              "      <td>144</td>\n",
              "      <td>193</td>\n",
              "      <td>1</td>\n",
              "      <td>1</td>\n",
              "      <td>141</td>\n",
              "      <td>0</td>\n",
              "      <td>3.4</td>\n",
              "      <td>1</td>\n",
              "      <td>2</td>\n",
              "      <td>3</td>\n",
              "      <td>0</td>\n",
              "    </tr>\n",
              "    <tr>\n",
              "      <th>301</th>\n",
              "      <td>57</td>\n",
              "      <td>1</td>\n",
              "      <td>0</td>\n",
              "      <td>130</td>\n",
              "      <td>131</td>\n",
              "      <td>0</td>\n",
              "      <td>1</td>\n",
              "      <td>115</td>\n",
              "      <td>1</td>\n",
              "      <td>1.2</td>\n",
              "      <td>1</td>\n",
              "      <td>1</td>\n",
              "      <td>3</td>\n",
              "      <td>0</td>\n",
              "    </tr>\n",
              "    <tr>\n",
              "      <th>302</th>\n",
              "      <td>57</td>\n",
              "      <td>0</td>\n",
              "      <td>1</td>\n",
              "      <td>130</td>\n",
              "      <td>236</td>\n",
              "      <td>0</td>\n",
              "      <td>0</td>\n",
              "      <td>174</td>\n",
              "      <td>0</td>\n",
              "      <td>0.0</td>\n",
              "      <td>1</td>\n",
              "      <td>1</td>\n",
              "      <td>2</td>\n",
              "      <td>0</td>\n",
              "    </tr>\n",
              "  </tbody>\n",
              "</table>\n",
              "<p>150 rows × 14 columns</p>\n",
              "</div>"
            ],
            "text/plain": [
              "     age  sex  cp  trtbps  chol  fbs  restecg  thalachh  exng  oldpeak  slp  \\\n",
              "153   66    0   2     146   278    0        0       152     0      0.0    1   \n",
              "154   39    0   2     138   220    0        1       152     0      0.0    1   \n",
              "155   58    0   0     130   197    0        1       131     0      0.6    1   \n",
              "156   47    1   2     130   253    0        1       179     0      0.0    2   \n",
              "157   35    1   1     122   192    0        1       174     0      0.0    2   \n",
              "..   ...  ...  ..     ...   ...  ...      ...       ...   ...      ...  ...   \n",
              "298   57    0   0     140   241    0        1       123     1      0.2    1   \n",
              "299   45    1   3     110   264    0        1       132     0      1.2    1   \n",
              "300   68    1   0     144   193    1        1       141     0      3.4    1   \n",
              "301   57    1   0     130   131    0        1       115     1      1.2    1   \n",
              "302   57    0   1     130   236    0        0       174     0      0.0    1   \n",
              "\n",
              "     caa  thall  output  \n",
              "153    1      2       1  \n",
              "154    0      2       1  \n",
              "155    0      2       1  \n",
              "156    0      2       1  \n",
              "157    0      2       1  \n",
              "..   ...    ...     ...  \n",
              "298    0      3       0  \n",
              "299    0      3       0  \n",
              "300    2      3       0  \n",
              "301    1      3       0  \n",
              "302    1      2       0  \n",
              "\n",
              "[150 rows x 14 columns]"
            ]
          },
          "execution_count": 3,
          "metadata": {},
          "output_type": "execute_result"
        }
      ],
      "source": [
        "df=pd.read_csv('heart.csv') \n",
        "df.tail(150)"
      ]
    },
    {
      "cell_type": "code",
      "execution_count": null,
      "metadata": {
        "id": "Zb0g9j7RYEFl",
        "outputId": "5efffde8-76d3-4689-dcf9-7a7967395c6e"
      },
      "outputs": [
        {
          "data": {
            "text/plain": [
              "array([1, 0], dtype=int64)"
            ]
          },
          "execution_count": 3,
          "metadata": {},
          "output_type": "execute_result"
        }
      ],
      "source": [
        "df['sex'].unique()\n",
        "df['cp'].unique()\n",
        "df['output'].unique()"
      ]
    },
    {
      "cell_type": "code",
      "execution_count": null,
      "metadata": {
        "id": "texCK2uLYEFm",
        "outputId": "8644dfda-f701-49e7-fd30-5b7c847507fc"
      },
      "outputs": [
        {
          "data": {
            "text/plain": [
              "array([145, 130, 120, 140, 172, 150, 110, 135, 160, 105, 125, 142, 155,\n",
              "       104, 138, 128, 108, 134, 122, 115, 118, 100, 124,  94, 112, 102,\n",
              "       152, 101, 132, 148, 178, 129, 180, 136, 126, 106, 156, 170, 146,\n",
              "       117, 200, 165, 174, 192, 144, 123, 154, 114, 164], dtype=int64)"
            ]
          },
          "execution_count": 4,
          "metadata": {},
          "output_type": "execute_result"
        }
      ],
      "source": [
        "df['age'].unique()\n",
        "df['trtbps'].unique()"
      ]
    },
    {
      "cell_type": "code",
      "execution_count": null,
      "metadata": {
        "id": "rMOYMPxhYEFn",
        "outputId": "97148e7b-93b9-480d-9c22-3c32d575d579"
      },
      "outputs": [
        {
          "name": "stdout",
          "output_type": "stream",
          "text": [
            "Patients who do not have disease :  138\n",
            "Patients who have disease :  165\n"
          ]
        }
      ],
      "source": [
        "print(\"Patients who do not have disease : \",len(df.loc[df['output'] == 0]))\n",
        "print(\"Patients who have disease : \",len(df.loc[df['output'] == 1]))"
      ]
    },
    {
      "cell_type": "code",
      "execution_count": null,
      "metadata": {
        "id": "MscVs-ZmYEFo"
      },
      "outputs": [],
      "source": [
        "df.columns = ['age', 'sex','Chest_Pain_type','resting_blood_pressure','cholestoral','fasting_blood_sugar',\n",
        "             'resting_electrocardiographic','maximum_heart_rate','exercise_induced_angina','previous_peak','Slope',\n",
        "             'number_major_vessels','thal_rate','output']"
      ]
    },
    {
      "cell_type": "code",
      "execution_count": null,
      "metadata": {
        "id": "UG-zYbvOYEFp",
        "outputId": "af7fa4e5-418b-44cb-a111-efbf5cdf5bf9"
      },
      "outputs": [
        {
          "data": {
            "text/html": [
              "<div>\n",
              "<style scoped>\n",
              "    .dataframe tbody tr th:only-of-type {\n",
              "        vertical-align: middle;\n",
              "    }\n",
              "\n",
              "    .dataframe tbody tr th {\n",
              "        vertical-align: top;\n",
              "    }\n",
              "\n",
              "    .dataframe thead th {\n",
              "        text-align: right;\n",
              "    }\n",
              "</style>\n",
              "<table border=\"1\" class=\"dataframe\">\n",
              "  <thead>\n",
              "    <tr style=\"text-align: right;\">\n",
              "      <th></th>\n",
              "      <th>age</th>\n",
              "      <th>sex</th>\n",
              "      <th>Chest_Pain_type</th>\n",
              "      <th>resting_blood_pressure</th>\n",
              "      <th>cholestoral</th>\n",
              "      <th>fasting_blood_sugar</th>\n",
              "      <th>resting_electrocardiographic</th>\n",
              "      <th>maximum_heart_rate</th>\n",
              "      <th>exercise_induced_angina</th>\n",
              "      <th>previous_peak</th>\n",
              "      <th>Slope</th>\n",
              "      <th>number_major_vessels</th>\n",
              "      <th>thal_rate</th>\n",
              "      <th>output</th>\n",
              "    </tr>\n",
              "  </thead>\n",
              "  <tbody>\n",
              "    <tr>\n",
              "      <th>age</th>\n",
              "      <td>1.000000</td>\n",
              "      <td>0.098447</td>\n",
              "      <td>0.068653</td>\n",
              "      <td>0.279351</td>\n",
              "      <td>0.213678</td>\n",
              "      <td>0.121308</td>\n",
              "      <td>0.116211</td>\n",
              "      <td>0.398522</td>\n",
              "      <td>0.096801</td>\n",
              "      <td>0.210013</td>\n",
              "      <td>0.168814</td>\n",
              "      <td>0.276326</td>\n",
              "      <td>0.068001</td>\n",
              "      <td>0.225439</td>\n",
              "    </tr>\n",
              "    <tr>\n",
              "      <th>sex</th>\n",
              "      <td>0.098447</td>\n",
              "      <td>1.000000</td>\n",
              "      <td>0.049353</td>\n",
              "      <td>0.056769</td>\n",
              "      <td>0.197912</td>\n",
              "      <td>0.045032</td>\n",
              "      <td>0.058196</td>\n",
              "      <td>0.044020</td>\n",
              "      <td>0.141664</td>\n",
              "      <td>0.096093</td>\n",
              "      <td>0.030711</td>\n",
              "      <td>0.118261</td>\n",
              "      <td>0.210041</td>\n",
              "      <td>0.280937</td>\n",
              "    </tr>\n",
              "    <tr>\n",
              "      <th>Chest_Pain_type</th>\n",
              "      <td>0.068653</td>\n",
              "      <td>0.049353</td>\n",
              "      <td>1.000000</td>\n",
              "      <td>0.047608</td>\n",
              "      <td>0.076904</td>\n",
              "      <td>0.094444</td>\n",
              "      <td>0.044421</td>\n",
              "      <td>0.295762</td>\n",
              "      <td>0.394280</td>\n",
              "      <td>0.149230</td>\n",
              "      <td>0.119717</td>\n",
              "      <td>0.181053</td>\n",
              "      <td>0.161736</td>\n",
              "      <td>0.433798</td>\n",
              "    </tr>\n",
              "    <tr>\n",
              "      <th>resting_blood_pressure</th>\n",
              "      <td>0.279351</td>\n",
              "      <td>0.056769</td>\n",
              "      <td>0.047608</td>\n",
              "      <td>1.000000</td>\n",
              "      <td>0.123174</td>\n",
              "      <td>0.177531</td>\n",
              "      <td>0.114103</td>\n",
              "      <td>0.046698</td>\n",
              "      <td>0.067616</td>\n",
              "      <td>0.193216</td>\n",
              "      <td>0.121475</td>\n",
              "      <td>0.101389</td>\n",
              "      <td>0.062210</td>\n",
              "      <td>0.144931</td>\n",
              "    </tr>\n",
              "    <tr>\n",
              "      <th>cholestoral</th>\n",
              "      <td>0.213678</td>\n",
              "      <td>0.197912</td>\n",
              "      <td>0.076904</td>\n",
              "      <td>0.123174</td>\n",
              "      <td>1.000000</td>\n",
              "      <td>0.013294</td>\n",
              "      <td>0.151040</td>\n",
              "      <td>0.009940</td>\n",
              "      <td>0.067023</td>\n",
              "      <td>0.053952</td>\n",
              "      <td>0.004038</td>\n",
              "      <td>0.070511</td>\n",
              "      <td>0.098803</td>\n",
              "      <td>0.085239</td>\n",
              "    </tr>\n",
              "    <tr>\n",
              "      <th>fasting_blood_sugar</th>\n",
              "      <td>0.121308</td>\n",
              "      <td>0.045032</td>\n",
              "      <td>0.094444</td>\n",
              "      <td>0.177531</td>\n",
              "      <td>0.013294</td>\n",
              "      <td>1.000000</td>\n",
              "      <td>0.084189</td>\n",
              "      <td>0.008567</td>\n",
              "      <td>0.025665</td>\n",
              "      <td>0.005747</td>\n",
              "      <td>0.059894</td>\n",
              "      <td>0.137979</td>\n",
              "      <td>0.032019</td>\n",
              "      <td>0.028046</td>\n",
              "    </tr>\n",
              "    <tr>\n",
              "      <th>resting_electrocardiographic</th>\n",
              "      <td>0.116211</td>\n",
              "      <td>0.058196</td>\n",
              "      <td>0.044421</td>\n",
              "      <td>0.114103</td>\n",
              "      <td>0.151040</td>\n",
              "      <td>0.084189</td>\n",
              "      <td>1.000000</td>\n",
              "      <td>0.044123</td>\n",
              "      <td>0.070733</td>\n",
              "      <td>0.058770</td>\n",
              "      <td>0.093045</td>\n",
              "      <td>0.072042</td>\n",
              "      <td>0.011981</td>\n",
              "      <td>0.137230</td>\n",
              "    </tr>\n",
              "    <tr>\n",
              "      <th>maximum_heart_rate</th>\n",
              "      <td>0.398522</td>\n",
              "      <td>0.044020</td>\n",
              "      <td>0.295762</td>\n",
              "      <td>0.046698</td>\n",
              "      <td>0.009940</td>\n",
              "      <td>0.008567</td>\n",
              "      <td>0.044123</td>\n",
              "      <td>1.000000</td>\n",
              "      <td>0.378812</td>\n",
              "      <td>0.344187</td>\n",
              "      <td>0.386784</td>\n",
              "      <td>0.213177</td>\n",
              "      <td>0.096439</td>\n",
              "      <td>0.421741</td>\n",
              "    </tr>\n",
              "    <tr>\n",
              "      <th>exercise_induced_angina</th>\n",
              "      <td>0.096801</td>\n",
              "      <td>0.141664</td>\n",
              "      <td>0.394280</td>\n",
              "      <td>0.067616</td>\n",
              "      <td>0.067023</td>\n",
              "      <td>0.025665</td>\n",
              "      <td>0.070733</td>\n",
              "      <td>0.378812</td>\n",
              "      <td>1.000000</td>\n",
              "      <td>0.288223</td>\n",
              "      <td>0.257748</td>\n",
              "      <td>0.115739</td>\n",
              "      <td>0.206754</td>\n",
              "      <td>0.436757</td>\n",
              "    </tr>\n",
              "    <tr>\n",
              "      <th>previous_peak</th>\n",
              "      <td>0.210013</td>\n",
              "      <td>0.096093</td>\n",
              "      <td>0.149230</td>\n",
              "      <td>0.193216</td>\n",
              "      <td>0.053952</td>\n",
              "      <td>0.005747</td>\n",
              "      <td>0.058770</td>\n",
              "      <td>0.344187</td>\n",
              "      <td>0.288223</td>\n",
              "      <td>1.000000</td>\n",
              "      <td>0.577537</td>\n",
              "      <td>0.222682</td>\n",
              "      <td>0.210244</td>\n",
              "      <td>0.430696</td>\n",
              "    </tr>\n",
              "    <tr>\n",
              "      <th>Slope</th>\n",
              "      <td>0.168814</td>\n",
              "      <td>0.030711</td>\n",
              "      <td>0.119717</td>\n",
              "      <td>0.121475</td>\n",
              "      <td>0.004038</td>\n",
              "      <td>0.059894</td>\n",
              "      <td>0.093045</td>\n",
              "      <td>0.386784</td>\n",
              "      <td>0.257748</td>\n",
              "      <td>0.577537</td>\n",
              "      <td>1.000000</td>\n",
              "      <td>0.080155</td>\n",
              "      <td>0.104764</td>\n",
              "      <td>0.345877</td>\n",
              "    </tr>\n",
              "    <tr>\n",
              "      <th>number_major_vessels</th>\n",
              "      <td>0.276326</td>\n",
              "      <td>0.118261</td>\n",
              "      <td>0.181053</td>\n",
              "      <td>0.101389</td>\n",
              "      <td>0.070511</td>\n",
              "      <td>0.137979</td>\n",
              "      <td>0.072042</td>\n",
              "      <td>0.213177</td>\n",
              "      <td>0.115739</td>\n",
              "      <td>0.222682</td>\n",
              "      <td>0.080155</td>\n",
              "      <td>1.000000</td>\n",
              "      <td>0.151832</td>\n",
              "      <td>0.391724</td>\n",
              "    </tr>\n",
              "    <tr>\n",
              "      <th>thal_rate</th>\n",
              "      <td>0.068001</td>\n",
              "      <td>0.210041</td>\n",
              "      <td>0.161736</td>\n",
              "      <td>0.062210</td>\n",
              "      <td>0.098803</td>\n",
              "      <td>0.032019</td>\n",
              "      <td>0.011981</td>\n",
              "      <td>0.096439</td>\n",
              "      <td>0.206754</td>\n",
              "      <td>0.210244</td>\n",
              "      <td>0.104764</td>\n",
              "      <td>0.151832</td>\n",
              "      <td>1.000000</td>\n",
              "      <td>0.344029</td>\n",
              "    </tr>\n",
              "    <tr>\n",
              "      <th>output</th>\n",
              "      <td>0.225439</td>\n",
              "      <td>0.280937</td>\n",
              "      <td>0.433798</td>\n",
              "      <td>0.144931</td>\n",
              "      <td>0.085239</td>\n",
              "      <td>0.028046</td>\n",
              "      <td>0.137230</td>\n",
              "      <td>0.421741</td>\n",
              "      <td>0.436757</td>\n",
              "      <td>0.430696</td>\n",
              "      <td>0.345877</td>\n",
              "      <td>0.391724</td>\n",
              "      <td>0.344029</td>\n",
              "      <td>1.000000</td>\n",
              "    </tr>\n",
              "  </tbody>\n",
              "</table>\n",
              "</div>"
            ],
            "text/plain": [
              "                                   age       sex  Chest_Pain_type  \\\n",
              "age                           1.000000  0.098447         0.068653   \n",
              "sex                           0.098447  1.000000         0.049353   \n",
              "Chest_Pain_type               0.068653  0.049353         1.000000   \n",
              "resting_blood_pressure        0.279351  0.056769         0.047608   \n",
              "cholestoral                   0.213678  0.197912         0.076904   \n",
              "fasting_blood_sugar           0.121308  0.045032         0.094444   \n",
              "resting_electrocardiographic  0.116211  0.058196         0.044421   \n",
              "maximum_heart_rate            0.398522  0.044020         0.295762   \n",
              "exercise_induced_angina       0.096801  0.141664         0.394280   \n",
              "previous_peak                 0.210013  0.096093         0.149230   \n",
              "Slope                         0.168814  0.030711         0.119717   \n",
              "number_major_vessels          0.276326  0.118261         0.181053   \n",
              "thal_rate                     0.068001  0.210041         0.161736   \n",
              "output                        0.225439  0.280937         0.433798   \n",
              "\n",
              "                              resting_blood_pressure  cholestoral  \\\n",
              "age                                         0.279351     0.213678   \n",
              "sex                                         0.056769     0.197912   \n",
              "Chest_Pain_type                             0.047608     0.076904   \n",
              "resting_blood_pressure                      1.000000     0.123174   \n",
              "cholestoral                                 0.123174     1.000000   \n",
              "fasting_blood_sugar                         0.177531     0.013294   \n",
              "resting_electrocardiographic                0.114103     0.151040   \n",
              "maximum_heart_rate                          0.046698     0.009940   \n",
              "exercise_induced_angina                     0.067616     0.067023   \n",
              "previous_peak                               0.193216     0.053952   \n",
              "Slope                                       0.121475     0.004038   \n",
              "number_major_vessels                        0.101389     0.070511   \n",
              "thal_rate                                   0.062210     0.098803   \n",
              "output                                      0.144931     0.085239   \n",
              "\n",
              "                              fasting_blood_sugar  \\\n",
              "age                                      0.121308   \n",
              "sex                                      0.045032   \n",
              "Chest_Pain_type                          0.094444   \n",
              "resting_blood_pressure                   0.177531   \n",
              "cholestoral                              0.013294   \n",
              "fasting_blood_sugar                      1.000000   \n",
              "resting_electrocardiographic             0.084189   \n",
              "maximum_heart_rate                       0.008567   \n",
              "exercise_induced_angina                  0.025665   \n",
              "previous_peak                            0.005747   \n",
              "Slope                                    0.059894   \n",
              "number_major_vessels                     0.137979   \n",
              "thal_rate                                0.032019   \n",
              "output                                   0.028046   \n",
              "\n",
              "                              resting_electrocardiographic  \\\n",
              "age                                               0.116211   \n",
              "sex                                               0.058196   \n",
              "Chest_Pain_type                                   0.044421   \n",
              "resting_blood_pressure                            0.114103   \n",
              "cholestoral                                       0.151040   \n",
              "fasting_blood_sugar                               0.084189   \n",
              "resting_electrocardiographic                      1.000000   \n",
              "maximum_heart_rate                                0.044123   \n",
              "exercise_induced_angina                           0.070733   \n",
              "previous_peak                                     0.058770   \n",
              "Slope                                             0.093045   \n",
              "number_major_vessels                              0.072042   \n",
              "thal_rate                                         0.011981   \n",
              "output                                            0.137230   \n",
              "\n",
              "                              maximum_heart_rate  exercise_induced_angina  \\\n",
              "age                                     0.398522                 0.096801   \n",
              "sex                                     0.044020                 0.141664   \n",
              "Chest_Pain_type                         0.295762                 0.394280   \n",
              "resting_blood_pressure                  0.046698                 0.067616   \n",
              "cholestoral                             0.009940                 0.067023   \n",
              "fasting_blood_sugar                     0.008567                 0.025665   \n",
              "resting_electrocardiographic            0.044123                 0.070733   \n",
              "maximum_heart_rate                      1.000000                 0.378812   \n",
              "exercise_induced_angina                 0.378812                 1.000000   \n",
              "previous_peak                           0.344187                 0.288223   \n",
              "Slope                                   0.386784                 0.257748   \n",
              "number_major_vessels                    0.213177                 0.115739   \n",
              "thal_rate                               0.096439                 0.206754   \n",
              "output                                  0.421741                 0.436757   \n",
              "\n",
              "                              previous_peak     Slope  number_major_vessels  \\\n",
              "age                                0.210013  0.168814              0.276326   \n",
              "sex                                0.096093  0.030711              0.118261   \n",
              "Chest_Pain_type                    0.149230  0.119717              0.181053   \n",
              "resting_blood_pressure             0.193216  0.121475              0.101389   \n",
              "cholestoral                        0.053952  0.004038              0.070511   \n",
              "fasting_blood_sugar                0.005747  0.059894              0.137979   \n",
              "resting_electrocardiographic       0.058770  0.093045              0.072042   \n",
              "maximum_heart_rate                 0.344187  0.386784              0.213177   \n",
              "exercise_induced_angina            0.288223  0.257748              0.115739   \n",
              "previous_peak                      1.000000  0.577537              0.222682   \n",
              "Slope                              0.577537  1.000000              0.080155   \n",
              "number_major_vessels               0.222682  0.080155              1.000000   \n",
              "thal_rate                          0.210244  0.104764              0.151832   \n",
              "output                             0.430696  0.345877              0.391724   \n",
              "\n",
              "                              thal_rate    output  \n",
              "age                            0.068001  0.225439  \n",
              "sex                            0.210041  0.280937  \n",
              "Chest_Pain_type                0.161736  0.433798  \n",
              "resting_blood_pressure         0.062210  0.144931  \n",
              "cholestoral                    0.098803  0.085239  \n",
              "fasting_blood_sugar            0.032019  0.028046  \n",
              "resting_electrocardiographic   0.011981  0.137230  \n",
              "maximum_heart_rate             0.096439  0.421741  \n",
              "exercise_induced_angina        0.206754  0.436757  \n",
              "previous_peak                  0.210244  0.430696  \n",
              "Slope                          0.104764  0.345877  \n",
              "number_major_vessels           0.151832  0.391724  \n",
              "thal_rate                      1.000000  0.344029  \n",
              "output                         0.344029  1.000000  "
            ]
          },
          "execution_count": 8,
          "metadata": {},
          "output_type": "execute_result"
        }
      ],
      "source": [
        "df.corr().abs()"
      ]
    },
    {
      "cell_type": "markdown",
      "metadata": {
        "id": "DQCJFNLRYEFr"
      },
      "source": [
        "## Feature correlation"
      ]
    },
    {
      "cell_type": "code",
      "execution_count": null,
      "metadata": {
        "id": "Uy8YM_HtYEFr",
        "outputId": "087c4d1f-ca54-44fc-bac7-23914df04a91"
      },
      "outputs": [
        {
          "data": {
            "image/png": "[encoded data removed]",
            "text/plain": [
              "<Figure size 864x720 with 2 Axes>"
            ]
          },
          "metadata": {
            "needs_background": "light"
          },
          "output_type": "display_data"
        }
      ],
      "source": [
        "#Filter Method using Pearson Correlation\n",
        "plt.figure(figsize=(12,10))\n",
        "correlation = df.corr()\n",
        "sns.heatmap(correlation, annot=True)\n",
        "plt.show()"
      ]
    },
    {
      "cell_type": "markdown",
      "metadata": {
        "id": "RESxVy0NYEFs"
      },
      "source": [
        "## Finding and removing highly correlated feature"
      ]
    },
    {
      "cell_type": "code",
      "execution_count": null,
      "metadata": {
        "id": "QZ7gOO9vYEFs",
        "outputId": "769e5c86-8701-449a-fca2-fdba37499662"
      },
      "outputs": [
        {
          "name": "stdout",
          "output_type": "stream",
          "text": [
            "previous_peak    1.000000\n",
            "Slope            0.577537\n",
            "Name: previous_peak, dtype: float64\n"
          ]
        }
      ],
      "source": [
        "correlation_target = abs(correlation[\"previous_peak\"])\n",
        "same_features = correlation_target[correlation_target>0.5]\n",
        "print(same_features)\n",
        "df=df.drop(['Slope'],axis=1)"
      ]
    },
    {
      "cell_type": "markdown",
      "metadata": {
        "id": "DehkBH6iYEFs"
      },
      "source": [
        "## Separating Variables"
      ]
    },
    {
      "cell_type": "code",
      "execution_count": null,
      "metadata": {
        "id": "yycdGbxMYEFt"
      },
      "outputs": [],
      "source": [
        "Input_variables=df.drop(['output'],axis=1)\n",
        "Output_variable=df['output']"
      ]
    },
    {
      "cell_type": "code",
      "execution_count": null,
      "metadata": {
        "id": "_0ez92-RYEFt"
      },
      "outputs": [],
      "source": [
        "from sklearn.model_selection import train_test_split\n",
        "X_train, X_test, y_train, y_test = train_test_split(Input_variables.values, Output_variable, train_size=0.8, random_state=0, stratify=Output_variable)"
      ]
    },
    {
      "cell_type": "markdown",
      "metadata": {
        "id": "fs3Nrg4HYEFu"
      },
      "source": [
        "## Random Forest Classifier with Defalut parameters"
      ]
    },
    {
      "cell_type": "code",
      "execution_count": null,
      "metadata": {
        "id": "m8AI-CadYEFu",
        "outputId": "2272042d-c592-4a07-ca33-aa3ac6f00cd1"
      },
      "outputs": [
        {
          "name": "stdout",
          "output_type": "stream",
          "text": [
            "Test Accuracy: 83.60655737704919\n",
            "Train Accuracy: 100.0\n"
          ]
        },
        {
          "data": {
            "text/plain": [
              "array([[23,  5],\n",
              "       [ 5, 28]], dtype=int64)"
            ]
          },
          "execution_count": 13,
          "metadata": {},
          "output_type": "execute_result"
        }
      ],
      "source": [
        "RF=RandomForestClassifier()\n",
        "RF.fit(X_train,y_train)\n",
        "y_pred=RF.predict(X_test)\n",
        "print(\"Test Accuracy:\",metrics.accuracy_score(y_test, y_pred)*100)\n",
        "y_pred_tr=RF.predict(X_train)\n",
        "print(\"Train Accuracy:\",metrics.accuracy_score(y_train, y_pred_tr)*100)\n",
        "\n",
        "metrics.confusion_matrix(y_test, y_pred)"
      ]
    },
    {
      "cell_type": "markdown",
      "metadata": {
        "id": "sUSJc6KNYEFv"
      },
      "source": [
        "## Parameters setting for Random Forest"
      ]
    },
    {
      "cell_type": "code",
      "execution_count": null,
      "metadata": {
        "id": "05wpqj8yYEFv",
        "outputId": "d903ef36-17b6-4884-9c93-10e9098a8cf5"
      },
      "outputs": [
        {
          "name": "stdout",
          "output_type": "stream",
          "text": [
            "{'n_estimators': [10, 257, 505, 752, 1000], 'max_features': ['sqrt', 'log2'], 'max_depth': [10, 30, 50], 'min_samples_split': [2, 4], 'min_samples_leaf': [2, 5]}\n"
          ]
        }
      ],
      "source": [
        "# Number of trees in random forest\n",
        "n_estimators = [int(x) for x in np.linspace(start = 10, stop = 1000, num = 5)]\n",
        "max_features = ['sqrt','log2']\n",
        "max_depth = [int(x) for x in np.linspace(10, 50,3)]\n",
        "min_samples_split = [2,4]\n",
        "min_samples_leaf = [2,5]\n",
        "# Create the random grid\n",
        "\n",
        "pg_rf = {'n_estimators': n_estimators,\n",
        "               'max_features': max_features,\n",
        "               'max_depth': max_depth,\n",
        "               'min_samples_split': min_samples_split,\n",
        "               'min_samples_leaf': min_samples_leaf,\n",
        "               }\n",
        "print(pg_rf)\n",
        "\n",
        "rf_em=RandomForestClassifier()"
      ]
    },
    {
      "cell_type": "markdown",
      "metadata": {
        "id": "tBE1SzxuYEFw"
      },
      "source": [
        "## Finding best parameters"
      ]
    },
    {
      "cell_type": "code",
      "execution_count": null,
      "metadata": {
        "id": "yUsUyhhcYEFx",
        "outputId": "5de39ff1-08ed-4482-aafd-d6db45a537e7"
      },
      "outputs": [
        {
          "name": "stdout",
          "output_type": "stream",
          "text": [
            "Fitting 2 folds for each of 120 candidates, totalling 240 fits\n"
          ]
        },
        {
          "name": "stderr",
          "output_type": "stream",
          "text": [
            "[Parallel(n_jobs=4)]: Using backend LokyBackend with 4 concurrent workers.\n",
            "[Parallel(n_jobs=4)]: Done  33 tasks      | elapsed:   19.6s\n",
            "[Parallel(n_jobs=4)]: Done 154 tasks      | elapsed:  1.4min\n",
            "[Parallel(n_jobs=4)]: Done 240 out of 240 | elapsed:  2.1min finished\n"
          ]
        },
        {
          "data": {
            "text/plain": [
              "GridSearchCV(cv=2, estimator=RandomForestClassifier(), n_jobs=4,\n",
              "             param_grid={'max_depth': [10, 30, 50],\n",
              "                         'max_features': ['sqrt', 'log2'],\n",
              "                         'min_samples_leaf': [2, 5],\n",
              "                         'min_samples_split': [2, 4],\n",
              "                         'n_estimators': [10, 257, 505, 752, 1000]},\n",
              "             verbose=2)"
            ]
          },
          "execution_count": 16,
          "metadata": {},
          "output_type": "execute_result"
        }
      ],
      "source": [
        "rf_Grid = GridSearchCV(estimator = rf_em, param_grid = pg_rf, cv = 2 , verbose=2, n_jobs = 4)\n",
        "rf_Grid.fit(X_train, y_train)"
      ]
    },
    {
      "cell_type": "code",
      "execution_count": null,
      "metadata": {
        "id": "t0zNq9ujYEFx",
        "outputId": "f5125752-d2e6-459a-aee4-0ccdb35ad06d"
      },
      "outputs": [
        {
          "data": {
            "text/plain": [
              "RandomForestClassifier(max_depth=10, max_features='log2', min_samples_leaf=5,\n",
              "                       min_samples_split=4, n_estimators=752)"
            ]
          },
          "execution_count": 17,
          "metadata": {},
          "output_type": "execute_result"
        }
      ],
      "source": [
        "rf_Grid.best_estimator_"
      ]
    },
    {
      "cell_type": "markdown",
      "metadata": {
        "id": "a9ZrQL1_YEFy"
      },
      "source": [
        "## Random Forest after Optimization"
      ]
    },
    {
      "cell_type": "code",
      "execution_count": null,
      "metadata": {
        "id": "XNWMNebmYEFy",
        "outputId": "eb34068b-24f3-4f5e-dfc5-0cda843b1522"
      },
      "outputs": [
        {
          "name": "stdout",
          "output_type": "stream",
          "text": [
            "RandomForestClassifier(max_depth=10, max_features='log2', min_samples_leaf=5,\n",
            "                       min_samples_split=4, n_estimators=752) \n",
            "\n",
            "Test Accuracy After Optimization: 81.9672131147541\n",
            "Train Accuracy After Optimization: 90.9090909090909 \n",
            "\n",
            "Confusion matrix:\n",
            " [[22  6]\n",
            " [ 4 29]] \n",
            "\n",
            "Classification Report Random Forest: \n",
            "\n",
            "              precision    recall  f1-score   support\n",
            "\n",
            "           0       0.85      0.79      0.81        28\n",
            "           1       0.83      0.88      0.85        33\n",
            "\n",
            "    accuracy                           0.84        61\n",
            "   macro avg       0.84      0.83      0.83        61\n",
            "weighted avg       0.84      0.84      0.84        61\n",
            "\n"
          ]
        }
      ],
      "source": [
        "rf_opt=rf_Grid.best_estimator_\n",
        "print(rf_opt,'\\n')\n",
        "rf_opt.fit(X_train,y_train)\n",
        "y_pred_opt=rf_opt.predict(X_test)\n",
        "print(\"Test Accuracy After Optimization:\",metrics.accuracy_score(y_test, y_pred)*100)\n",
        "y_pred_tr=rf_opt.predict(X_train)\n",
        "print(\"Train Accuracy After Optimization:\",metrics.accuracy_score(y_train, y_pred_tr)*100,'\\n')\n",
        "\n",
        "\n",
        "print('Confusion matrix:\\n',metrics.confusion_matrix(y_test, y_pred_opt),'\\n')\n",
        "\n",
        "print(\"Classification Report Random Forest: \\n\")\n",
        "print(metrics.classification_report(y_test, y_pred_opt))"
      ]
    },
    {
      "cell_type": "markdown",
      "metadata": {
        "id": "Xu5Ux2INYEFy"
      },
      "source": [
        "## Random Forest Visualizaton"
      ]
    },
    {
      "cell_type": "code",
      "execution_count": null,
      "metadata": {
        "id": "QJ7TQ9u3YEFy",
        "outputId": "6628c943-c8d2-4351-a9a3-f40732ae7ef6"
      },
      "outputs": [
        {
          "data": {
            "image/png": "[encoded data removed]",
            "text/plain": [
              "<Figure size 1500x1500 with 1 Axes>"
            ]
          },
          "metadata": {
            "needs_background": "light"
          },
          "output_type": "display_data"
        }
      ],
      "source": [
        "fn=['age', 'sex', 'Chest_Pain_type', 'resting_blood_pressure',\n",
        "       'cholestoral', 'fasting_blood_sugar', 'resting_electrocardiographic',\n",
        "       'maximum_heart_rate', 'exercise_induced_angina', 'previous_peak',\n",
        "       'number_major_vessels', 'thal_rate']\n",
        "from sklearn import tree\n",
        "\n",
        "fig, axes = plt.subplots(nrows = 1,ncols = 1,figsize = (5,5), dpi=300)\n",
        "tree.plot_tree(rf_opt.estimators_[7],\n",
        "               feature_names = fn, \n",
        "               class_names=['Yes','No'],\n",
        "               filled = True);\n",
        "fig.savefig('heart_rfc.png')"
      ]
    },
    {
      "cell_type": "markdown",
      "metadata": {
        "id": "Dy1w0t0ZYEFz"
      },
      "source": [
        "## Feature Importance for Random Forest Classifier"
      ]
    },
    {
      "cell_type": "code",
      "execution_count": null,
      "metadata": {
        "id": "VSqWDhtbYEFz",
        "outputId": "8b1fb2bc-1d2b-45d8-c103-d26b06b3a8d5"
      },
      "outputs": [
        {
          "name": "stdout",
          "output_type": "stream",
          "text": [
            "Feature: 0, Score: 0.07389\n",
            "Feature: 1, Score: 0.02387\n",
            "Feature: 2, Score: 0.15796\n",
            "Feature: 3, Score: 0.03760\n",
            "Feature: 4, Score: 0.04508\n",
            "Feature: 5, Score: 0.00314\n",
            "Feature: 6, Score: 0.01285\n",
            "Feature: 7, Score: 0.09011\n",
            "Feature: 8, Score: 0.13114\n",
            "Feature: 9, Score: 0.13483\n",
            "Feature: 10, Score: 0.13456\n",
            "Feature: 11, Score: 0.15497\n"
          ]
        },
        {
          "data": {
            "image/png": "[encoded data removed]",
            "text/plain": [
              "<Figure size 432x288 with 1 Axes>"
            ]
          },
          "metadata": {
            "needs_background": "light"
          },
          "output_type": "display_data"
        }
      ],
      "source": [
        "feature_importance = rf_opt.feature_importances_\n",
        "# summarize feature importance\n",
        "for i,v in enumerate(feature_importance):\n",
        "    print('Feature: %0d, Score: %.5f' % (i,v))\n",
        "# plot feature importance\n",
        "plt.bar([x for x in range(len(feature_importance))], feature_importance)\n",
        "plt.show()"
      ]
    },
    {
      "cell_type": "markdown",
      "metadata": {
        "id": "XW79jGpoYEF0"
      },
      "source": [
        "## Feature Ranking for RFC"
      ]
    },
    {
      "cell_type": "code",
      "execution_count": null,
      "metadata": {
        "id": "asrqg_f2YEF0",
        "outputId": "c1f4291a-641b-427b-c884-cf640ad8a137"
      },
      "outputs": [
        {
          "name": "stdout",
          "output_type": "stream",
          "text": [
            "Feature ranking:\n",
            "1. feature 2 (0.131551)\n",
            "2. feature 9 (0.121748)\n",
            "3. feature 11 (0.116516)\n",
            "4. feature 10 (0.116492)\n",
            "5. feature 7 (0.111156)\n",
            "6. feature 0 (0.100161)\n",
            "7. feature 8 (0.089534)\n",
            "8. feature 3 (0.077771)\n",
            "9. feature 4 (0.075468)\n",
            "10. feature 1 (0.031352)\n",
            "11. feature 6 (0.018718)\n",
            "12. feature 5 (0.009534)\n"
          ]
        }
      ],
      "source": [
        "import numpy as np\n",
        "importances = RF.feature_importances_\n",
        "std = np.std([tree.feature_importances_ for tree in RF.estimators_],\n",
        "             axis=0)\n",
        "indices = np.argsort(importances)[::-1]\n",
        "\n",
        "# Print the feature ranking\n",
        "print(\"Feature ranking:\")\n",
        "\n",
        "for f in range(Input_variables.shape[1]):\n",
        "    print(\"%d. feature %d (%f)\" % (f + 1, indices[f], importances[indices[f]]))"
      ]
    },
    {
      "cell_type": "markdown",
      "metadata": {
        "id": "qWnIF_ASYEF1"
      },
      "source": [
        "## Top 4 Features for RFC"
      ]
    },
    {
      "cell_type": "code",
      "execution_count": null,
      "metadata": {
        "id": "s7A7y_j_YEF1",
        "outputId": "706eb71b-5022-44da-bf3e-0cef34713fe5"
      },
      "outputs": [
        {
          "name": "stdout",
          "output_type": "stream",
          "text": [
            "Top 4 Features for Randsom FOrest Classifier are:\n"
          ]
        },
        {
          "data": {
            "text/html": [
              "<div>\n",
              "<style scoped>\n",
              "    .dataframe tbody tr th:only-of-type {\n",
              "        vertical-align: middle;\n",
              "    }\n",
              "\n",
              "    .dataframe tbody tr th {\n",
              "        vertical-align: top;\n",
              "    }\n",
              "\n",
              "    .dataframe thead th {\n",
              "        text-align: right;\n",
              "    }\n",
              "</style>\n",
              "<table border=\"1\" class=\"dataframe\">\n",
              "  <thead>\n",
              "    <tr style=\"text-align: right;\">\n",
              "      <th></th>\n",
              "      <th>previous_peak</th>\n",
              "      <th>Chest_Pain_type</th>\n",
              "      <th>maximum_heart_rate</th>\n",
              "      <th>number_major_vessels</th>\n",
              "    </tr>\n",
              "  </thead>\n",
              "  <tbody>\n",
              "    <tr>\n",
              "      <th>0</th>\n",
              "      <td>2.3</td>\n",
              "      <td>3</td>\n",
              "      <td>150</td>\n",
              "      <td>0</td>\n",
              "    </tr>\n",
              "    <tr>\n",
              "      <th>1</th>\n",
              "      <td>3.5</td>\n",
              "      <td>2</td>\n",
              "      <td>187</td>\n",
              "      <td>0</td>\n",
              "    </tr>\n",
              "    <tr>\n",
              "      <th>2</th>\n",
              "      <td>1.4</td>\n",
              "      <td>1</td>\n",
              "      <td>172</td>\n",
              "      <td>0</td>\n",
              "    </tr>\n",
              "    <tr>\n",
              "      <th>3</th>\n",
              "      <td>0.8</td>\n",
              "      <td>1</td>\n",
              "      <td>178</td>\n",
              "      <td>0</td>\n",
              "    </tr>\n",
              "    <tr>\n",
              "      <th>4</th>\n",
              "      <td>0.6</td>\n",
              "      <td>0</td>\n",
              "      <td>163</td>\n",
              "      <td>0</td>\n",
              "    </tr>\n",
              "    <tr>\n",
              "      <th>...</th>\n",
              "      <td>...</td>\n",
              "      <td>...</td>\n",
              "      <td>...</td>\n",
              "      <td>...</td>\n",
              "    </tr>\n",
              "    <tr>\n",
              "      <th>298</th>\n",
              "      <td>0.2</td>\n",
              "      <td>0</td>\n",
              "      <td>123</td>\n",
              "      <td>0</td>\n",
              "    </tr>\n",
              "    <tr>\n",
              "      <th>299</th>\n",
              "      <td>1.2</td>\n",
              "      <td>3</td>\n",
              "      <td>132</td>\n",
              "      <td>0</td>\n",
              "    </tr>\n",
              "    <tr>\n",
              "      <th>300</th>\n",
              "      <td>3.4</td>\n",
              "      <td>0</td>\n",
              "      <td>141</td>\n",
              "      <td>2</td>\n",
              "    </tr>\n",
              "    <tr>\n",
              "      <th>301</th>\n",
              "      <td>1.2</td>\n",
              "      <td>0</td>\n",
              "      <td>115</td>\n",
              "      <td>1</td>\n",
              "    </tr>\n",
              "    <tr>\n",
              "      <th>302</th>\n",
              "      <td>0.0</td>\n",
              "      <td>1</td>\n",
              "      <td>174</td>\n",
              "      <td>1</td>\n",
              "    </tr>\n",
              "  </tbody>\n",
              "</table>\n",
              "<p>303 rows × 4 columns</p>\n",
              "</div>"
            ],
            "text/plain": [
              "     previous_peak  Chest_Pain_type  maximum_heart_rate  number_major_vessels\n",
              "0              2.3                3                 150                     0\n",
              "1              3.5                2                 187                     0\n",
              "2              1.4                1                 172                     0\n",
              "3              0.8                1                 178                     0\n",
              "4              0.6                0                 163                     0\n",
              "..             ...              ...                 ...                   ...\n",
              "298            0.2                0                 123                     0\n",
              "299            1.2                3                 132                     0\n",
              "300            3.4                0                 141                     2\n",
              "301            1.2                0                 115                     1\n",
              "302            0.0                1                 174                     1\n",
              "\n",
              "[303 rows x 4 columns]"
            ]
          },
          "execution_count": 22,
          "metadata": {},
          "output_type": "execute_result"
        }
      ],
      "source": [
        "print(\"Top 4 Features for Randsom FOrest Classifier are:\")\n",
        "df_fet_imp=pd.DataFrame(df,columns=df.columns[[9,2,7,10]])\n",
        "df_fet_imp"
      ]
    },
    {
      "cell_type": "markdown",
      "metadata": {
        "id": "TO-rOMorYEF1"
      },
      "source": [
        "## Support Vector Machine Before Optimization"
      ]
    },
    {
      "cell_type": "code",
      "execution_count": null,
      "metadata": {
        "id": "WDvsGg6vYEF2",
        "outputId": "faf566c6-d642-467a-b6b1-8da90e3f5529"
      },
      "outputs": [
        {
          "name": "stdout",
          "output_type": "stream",
          "text": [
            "Test accuracy before optimization  63.934426229508205\n",
            "Train accuracy before optimization : 66.94214876033058\n"
          ]
        },
        {
          "data": {
            "text/plain": [
              "array([[12, 16],\n",
              "       [ 6, 27]], dtype=int64)"
            ]
          },
          "execution_count": 23,
          "metadata": {},
          "output_type": "execute_result"
        }
      ],
      "source": [
        "model_svc = SVC()\n",
        "model_svc.fit(X_train, y_train)\n",
        "predictions = model_svc.predict(X_test)\n",
        "\n",
        "acc_test= metrics.accuracy_score(y_test,predictions)*100\n",
        "print('Test accuracy before optimization ',acc_test)\n",
        "\n",
        "y_pred_tr_svc=model_svc.predict(X_train)\n",
        "print(\"Train accuracy before optimization :\",metrics.accuracy_score(y_train, y_pred_tr_svc)*100)\n",
        "\n",
        "\n",
        "metrics.confusion_matrix(y_test, predictions)"
      ]
    },
    {
      "cell_type": "markdown",
      "metadata": {
        "id": "AVz6AhwHYEF2"
      },
      "source": [
        "## Parameters setting for Support Vector Machine"
      ]
    },
    {
      "cell_type": "code",
      "execution_count": null,
      "metadata": {
        "id": "cHZgY7o9YEF2"
      },
      "outputs": [],
      "source": [
        "  \n",
        "# defining parameter range\n",
        "svc_param_grid = {'C': [0.1, 1, 10], \n",
        "              'gamma': [1, 0.1, 0.01, 0.001, 0.0001],\n",
        "              'kernel': ['rbf','linear']} \n",
        "\n",
        "svc_em=SVC()"
      ]
    },
    {
      "cell_type": "markdown",
      "metadata": {
        "id": "mGGW9eUVYEF2"
      },
      "source": [
        "## Finding the best parameters for SVM"
      ]
    },
    {
      "cell_type": "code",
      "execution_count": null,
      "metadata": {
        "id": "AhZps8kSYEF3",
        "outputId": "bb3ac78f-9ae2-49ae-c858-a6278f5c41a7"
      },
      "outputs": [
        {
          "name": "stdout",
          "output_type": "stream",
          "text": [
            "Fitting 5 folds for each of 30 candidates, totalling 150 fits\n"
          ]
        },
        {
          "name": "stderr",
          "output_type": "stream",
          "text": [
            "[Parallel(n_jobs=4)]: Using backend LokyBackend with 4 concurrent workers.\n",
            "[Parallel(n_jobs=4)]: Done  24 tasks      | elapsed:    4.0s\n",
            "[Parallel(n_jobs=4)]: Done 150 out of 150 | elapsed:   56.7s finished\n"
          ]
        },
        {
          "data": {
            "text/plain": [
              "SVC(C=0.1, gamma=1, kernel='linear')"
            ]
          },
          "execution_count": 25,
          "metadata": {},
          "output_type": "execute_result"
        }
      ],
      "source": [
        "svc_grid = GridSearchCV(estimator=svc_em , param_grid=svc_param_grid,  cv = 5, verbose = 3,n_jobs=4)\n",
        "svc_grid.fit(X_train, y_train)\n",
        "svcc=svc_grid.best_estimator_\n",
        "svcc"
      ]
    },
    {
      "cell_type": "markdown",
      "metadata": {
        "id": "U8H0ynljYEF3"
      },
      "source": [
        "## Support Vector Machine after Optimization"
      ]
    },
    {
      "cell_type": "code",
      "execution_count": null,
      "metadata": {
        "id": "MLEdIjWaYEF3",
        "outputId": "d0b0e153-e482-4975-9040-32807617c72d"
      },
      "outputs": [
        {
          "name": "stdout",
          "output_type": "stream",
          "text": [
            "Testing accuracy after optimization:  83.60655737704919\n",
            "Training accuracy after optimization:  85.12396694214877 \n",
            "\n",
            "Confusion matrix:\n",
            " [[21  7]\n",
            " [ 3 30]] \n",
            "\n",
            "Classification Report Support Vector : \n",
            "\n",
            "              precision    recall  f1-score   support\n",
            "\n",
            "           0       0.88      0.75      0.81        28\n",
            "           1       0.81      0.91      0.86        33\n",
            "\n",
            "    accuracy                           0.84        61\n",
            "   macro avg       0.84      0.83      0.83        61\n",
            "weighted avg       0.84      0.84      0.83        61\n",
            "\n"
          ]
        }
      ],
      "source": [
        "svcc.fit(X_train, y_train)\n",
        "predictions_optt = svcc.predict(X_test)\n",
        "acc= metrics.accuracy_score(y_test,predictions_optt)*100\n",
        "print('Testing accuracy after optimization: ',acc)\n",
        "\n",
        "predictions_ = svcc.predict(X_train)\n",
        "acc1= metrics.accuracy_score(y_train,predictions_)*100\n",
        "print('Training accuracy after optimization: ',acc1,'\\n')\n",
        "\n",
        "print('Confusion matrix:\\n',metrics.confusion_matrix(y_test, predictions_optt),'\\n')\n",
        "print(\"Classification Report Support Vector : \\n\")\n",
        "print(metrics.classification_report(y_test, predictions_optt))"
      ]
    },
    {
      "cell_type": "markdown",
      "metadata": {
        "id": "8-X-tNfIYEF3"
      },
      "source": [
        "## Feature Importance for Support Vector Classifier"
      ]
    },
    {
      "cell_type": "code",
      "execution_count": null,
      "metadata": {
        "id": "qGbgdG_hYEF3",
        "outputId": "7c69dc85-0146-42b5-9716-4f7a7a0a979a"
      },
      "outputs": [
        {
          "name": "stdout",
          "output_type": "stream",
          "text": [
            "Feature: 0, Score: -0.00199\n",
            "Feature: 1, Score: -0.59719\n",
            "Feature: 2, Score: 0.49729\n",
            "Feature: 3, Score: -0.01465\n",
            "Feature: 4, Score: -0.00142\n",
            "Feature: 5, Score: 0.08699\n",
            "Feature: 6, Score: 0.19475\n",
            "Feature: 7, Score: 0.01330\n",
            "Feature: 8, Score: -0.63081\n",
            "Feature: 9, Score: -0.40043\n",
            "Feature: 10, Score: -0.35785\n",
            "Feature: 11, Score: -0.54167\n"
          ]
        },
        {
          "data": {
            "image/png": "[encoded data removed]",
            "text/plain": [
              "<Figure size 432x288 with 1 Axes>"
            ]
          },
          "metadata": {
            "needs_background": "light"
          },
          "output_type": "display_data"
        }
      ],
      "source": [
        "# get importance\n",
        "importance = svcc.coef_[0]\n",
        "# summarize feature importance\n",
        "for i,v in enumerate(importance):\n",
        "    print('Feature: %0d, Score: %.5f' % (i,v))\n",
        "# plot feature importance\n",
        "plt.bar([x for x in range(len(importance))], importance)\n",
        "plt.show()"
      ]
    },
    {
      "cell_type": "markdown",
      "metadata": {
        "id": "8VIKcLnoYEF4"
      },
      "source": [
        "## Feature Ranking"
      ]
    },
    {
      "cell_type": "code",
      "execution_count": null,
      "metadata": {
        "id": "xNu-OxxmYEF4",
        "outputId": "fe6c4389-82fb-429c-dc62-beb5744da7ed"
      },
      "outputs": [
        {
          "name": "stdout",
          "output_type": "stream",
          "text": [
            "Feature ranking:\n",
            "1. feature 2 (0.497290)\n",
            "2. feature 6 (0.194752)\n",
            "3. feature 5 (0.086988)\n",
            "4. feature 7 (0.013302)\n",
            "5. feature 4 (-0.001416)\n",
            "6. feature 0 (-0.001988)\n",
            "7. feature 3 (-0.014655)\n",
            "8. feature 10 (-0.357849)\n",
            "9. feature 9 (-0.400427)\n",
            "10. feature 11 (-0.541670)\n",
            "11. feature 1 (-0.597195)\n",
            "12. feature 8 (-0.630814)\n"
          ]
        }
      ],
      "source": [
        "importances = svcc.coef_[0]\n",
        "\n",
        "indices = np.argsort(importances)[::-1]\n",
        "\n",
        "# Print the feature ranking\n",
        "print(\"Feature ranking:\")\n",
        "\n",
        "for f in range(Input_variables.shape[1]):\n",
        "    print(\"%d. feature %d (%f)\" % (f + 1, indices[f], importances[indices[f]]))\n"
      ]
    },
    {
      "cell_type": "markdown",
      "metadata": {
        "id": "y9_ccGBSYEF4"
      },
      "source": [
        "## Top 4 Features for SVC"
      ]
    },
    {
      "cell_type": "code",
      "execution_count": null,
      "metadata": {
        "id": "OwsjzrQbYEF4",
        "outputId": "12c095d1-a11f-4874-9512-ebb78899cdb5"
      },
      "outputs": [
        {
          "name": "stdout",
          "output_type": "stream",
          "text": [
            "Top 4 Features for Support Vector Classifier are:\n"
          ]
        },
        {
          "data": {
            "text/html": [
              "<div>\n",
              "<style scoped>\n",
              "    .dataframe tbody tr th:only-of-type {\n",
              "        vertical-align: middle;\n",
              "    }\n",
              "\n",
              "    .dataframe tbody tr th {\n",
              "        vertical-align: top;\n",
              "    }\n",
              "\n",
              "    .dataframe thead th {\n",
              "        text-align: right;\n",
              "    }\n",
              "</style>\n",
              "<table border=\"1\" class=\"dataframe\">\n",
              "  <thead>\n",
              "    <tr style=\"text-align: right;\">\n",
              "      <th></th>\n",
              "      <th>Chest_Pain_type</th>\n",
              "      <th>resting_electrocardiographic</th>\n",
              "      <th>fasting_blood_sugar</th>\n",
              "      <th>maximum_heart_rate</th>\n",
              "    </tr>\n",
              "  </thead>\n",
              "  <tbody>\n",
              "    <tr>\n",
              "      <th>0</th>\n",
              "      <td>3</td>\n",
              "      <td>0</td>\n",
              "      <td>1</td>\n",
              "      <td>150</td>\n",
              "    </tr>\n",
              "    <tr>\n",
              "      <th>1</th>\n",
              "      <td>2</td>\n",
              "      <td>1</td>\n",
              "      <td>0</td>\n",
              "      <td>187</td>\n",
              "    </tr>\n",
              "    <tr>\n",
              "      <th>2</th>\n",
              "      <td>1</td>\n",
              "      <td>0</td>\n",
              "      <td>0</td>\n",
              "      <td>172</td>\n",
              "    </tr>\n",
              "    <tr>\n",
              "      <th>3</th>\n",
              "      <td>1</td>\n",
              "      <td>1</td>\n",
              "      <td>0</td>\n",
              "      <td>178</td>\n",
              "    </tr>\n",
              "    <tr>\n",
              "      <th>4</th>\n",
              "      <td>0</td>\n",
              "      <td>1</td>\n",
              "      <td>0</td>\n",
              "      <td>163</td>\n",
              "    </tr>\n",
              "    <tr>\n",
              "      <th>...</th>\n",
              "      <td>...</td>\n",
              "      <td>...</td>\n",
              "      <td>...</td>\n",
              "      <td>...</td>\n",
              "    </tr>\n",
              "    <tr>\n",
              "      <th>298</th>\n",
              "      <td>0</td>\n",
              "      <td>1</td>\n",
              "      <td>0</td>\n",
              "      <td>123</td>\n",
              "    </tr>\n",
              "    <tr>\n",
              "      <th>299</th>\n",
              "      <td>3</td>\n",
              "      <td>1</td>\n",
              "      <td>0</td>\n",
              "      <td>132</td>\n",
              "    </tr>\n",
              "    <tr>\n",
              "      <th>300</th>\n",
              "      <td>0</td>\n",
              "      <td>1</td>\n",
              "      <td>1</td>\n",
              "      <td>141</td>\n",
              "    </tr>\n",
              "    <tr>\n",
              "      <th>301</th>\n",
              "      <td>0</td>\n",
              "      <td>1</td>\n",
              "      <td>0</td>\n",
              "      <td>115</td>\n",
              "    </tr>\n",
              "    <tr>\n",
              "      <th>302</th>\n",
              "      <td>1</td>\n",
              "      <td>0</td>\n",
              "      <td>0</td>\n",
              "      <td>174</td>\n",
              "    </tr>\n",
              "  </tbody>\n",
              "</table>\n",
              "<p>303 rows × 4 columns</p>\n",
              "</div>"
            ],
            "text/plain": [
              "     Chest_Pain_type  resting_electrocardiographic  fasting_blood_sugar  \\\n",
              "0                  3                             0                    1   \n",
              "1                  2                             1                    0   \n",
              "2                  1                             0                    0   \n",
              "3                  1                             1                    0   \n",
              "4                  0                             1                    0   \n",
              "..               ...                           ...                  ...   \n",
              "298                0                             1                    0   \n",
              "299                3                             1                    0   \n",
              "300                0                             1                    1   \n",
              "301                0                             1                    0   \n",
              "302                1                             0                    0   \n",
              "\n",
              "     maximum_heart_rate  \n",
              "0                   150  \n",
              "1                   187  \n",
              "2                   172  \n",
              "3                   178  \n",
              "4                   163  \n",
              "..                  ...  \n",
              "298                 123  \n",
              "299                 132  \n",
              "300                 141  \n",
              "301                 115  \n",
              "302                 174  \n",
              "\n",
              "[303 rows x 4 columns]"
            ]
          },
          "execution_count": 29,
          "metadata": {},
          "output_type": "execute_result"
        }
      ],
      "source": [
        "print(\"Top 4 Features for Support Vector Classifier are:\")\n",
        "df_fet_imp_svc=pd.DataFrame(df,columns=df.columns[[2,6,5,7]])\n",
        "df_fet_imp_svc"
      ]
    },
    {
      "cell_type": "code",
      "execution_count": null,
      "metadata": {
        "id": "GUx0xTO3YEF5",
        "outputId": "aa034cd7-766d-405d-d359-174c0e759165"
      },
      "outputs": [
        {
          "data": {
            "text/html": [
              "<div>\n",
              "<style scoped>\n",
              "    .dataframe tbody tr th:only-of-type {\n",
              "        vertical-align: middle;\n",
              "    }\n",
              "\n",
              "    .dataframe tbody tr th {\n",
              "        vertical-align: top;\n",
              "    }\n",
              "\n",
              "    .dataframe thead th {\n",
              "        text-align: right;\n",
              "    }\n",
              "</style>\n",
              "<table border=\"1\" class=\"dataframe\">\n",
              "  <thead>\n",
              "    <tr style=\"text-align: right;\">\n",
              "      <th></th>\n",
              "      <th>age</th>\n",
              "      <th>sex</th>\n",
              "      <th>Chest_Pain_type</th>\n",
              "      <th>resting_blood_pressure</th>\n",
              "      <th>cholestoral</th>\n",
              "      <th>fasting_blood_sugar</th>\n",
              "      <th>resting_electrocardiographic</th>\n",
              "      <th>maximum_heart_rate</th>\n",
              "      <th>exercise_induced_angina</th>\n",
              "      <th>previous_peak</th>\n",
              "      <th>number_major_vessels</th>\n",
              "      <th>thal_rate</th>\n",
              "      <th>output</th>\n",
              "    </tr>\n",
              "  </thead>\n",
              "  <tbody>\n",
              "    <tr>\n",
              "      <th>0</th>\n",
              "      <td>63</td>\n",
              "      <td>1</td>\n",
              "      <td>3</td>\n",
              "      <td>145</td>\n",
              "      <td>233</td>\n",
              "      <td>1</td>\n",
              "      <td>0</td>\n",
              "      <td>150</td>\n",
              "      <td>0</td>\n",
              "      <td>2.3</td>\n",
              "      <td>0</td>\n",
              "      <td>1</td>\n",
              "      <td>1</td>\n",
              "    </tr>\n",
              "    <tr>\n",
              "      <th>1</th>\n",
              "      <td>37</td>\n",
              "      <td>1</td>\n",
              "      <td>2</td>\n",
              "      <td>130</td>\n",
              "      <td>250</td>\n",
              "      <td>0</td>\n",
              "      <td>1</td>\n",
              "      <td>187</td>\n",
              "      <td>0</td>\n",
              "      <td>3.5</td>\n",
              "      <td>0</td>\n",
              "      <td>2</td>\n",
              "      <td>1</td>\n",
              "    </tr>\n",
              "    <tr>\n",
              "      <th>2</th>\n",
              "      <td>41</td>\n",
              "      <td>0</td>\n",
              "      <td>1</td>\n",
              "      <td>130</td>\n",
              "      <td>204</td>\n",
              "      <td>0</td>\n",
              "      <td>0</td>\n",
              "      <td>172</td>\n",
              "      <td>0</td>\n",
              "      <td>1.4</td>\n",
              "      <td>0</td>\n",
              "      <td>2</td>\n",
              "      <td>1</td>\n",
              "    </tr>\n",
              "    <tr>\n",
              "      <th>3</th>\n",
              "      <td>56</td>\n",
              "      <td>1</td>\n",
              "      <td>1</td>\n",
              "      <td>120</td>\n",
              "      <td>236</td>\n",
              "      <td>0</td>\n",
              "      <td>1</td>\n",
              "      <td>178</td>\n",
              "      <td>0</td>\n",
              "      <td>0.8</td>\n",
              "      <td>0</td>\n",
              "      <td>2</td>\n",
              "      <td>1</td>\n",
              "    </tr>\n",
              "    <tr>\n",
              "      <th>4</th>\n",
              "      <td>57</td>\n",
              "      <td>0</td>\n",
              "      <td>0</td>\n",
              "      <td>120</td>\n",
              "      <td>354</td>\n",
              "      <td>0</td>\n",
              "      <td>1</td>\n",
              "      <td>163</td>\n",
              "      <td>1</td>\n",
              "      <td>0.6</td>\n",
              "      <td>0</td>\n",
              "      <td>2</td>\n",
              "      <td>1</td>\n",
              "    </tr>\n",
              "  </tbody>\n",
              "</table>\n",
              "</div>"
            ],
            "text/plain": [
              "   age  sex  Chest_Pain_type  resting_blood_pressure  cholestoral  \\\n",
              "0   63    1                3                     145          233   \n",
              "1   37    1                2                     130          250   \n",
              "2   41    0                1                     130          204   \n",
              "3   56    1                1                     120          236   \n",
              "4   57    0                0                     120          354   \n",
              "\n",
              "   fasting_blood_sugar  resting_electrocardiographic  maximum_heart_rate  \\\n",
              "0                    1                             0                 150   \n",
              "1                    0                             1                 187   \n",
              "2                    0                             0                 172   \n",
              "3                    0                             1                 178   \n",
              "4                    0                             1                 163   \n",
              "\n",
              "   exercise_induced_angina  previous_peak  number_major_vessels  thal_rate  \\\n",
              "0                        0            2.3                     0          1   \n",
              "1                        0            3.5                     0          2   \n",
              "2                        0            1.4                     0          2   \n",
              "3                        0            0.8                     0          2   \n",
              "4                        1            0.6                     0          2   \n",
              "\n",
              "   output  \n",
              "0       1  \n",
              "1       1  \n",
              "2       1  \n",
              "3       1  \n",
              "4       1  "
            ]
          },
          "execution_count": 34,
          "metadata": {},
          "output_type": "execute_result"
        }
      ],
      "source": [
        "df.head()"
      ]
    },
    {
      "cell_type": "markdown",
      "metadata": {
        "id": "JAayaAS1YEF5"
      },
      "source": [
        "## Applications (SVC + RFC)"
      ]
    },
    {
      "cell_type": "markdown",
      "metadata": {
        "id": "zXvHQytPYEF5"
      },
      "source": [
        "## Saving the models into disk"
      ]
    },
    {
      "cell_type": "code",
      "execution_count": null,
      "metadata": {
        "id": "1D_MI_jhYEF5",
        "outputId": "92b177f0-05aa-4624-c80d-d473d6a9e3d4"
      },
      "outputs": [
        {
          "data": {
            "text/plain": [
              "['Svc_model.sav']"
            ]
          },
          "execution_count": 30,
          "metadata": {},
          "output_type": "execute_result"
        }
      ],
      "source": [
        "svc_app = svcc.fit(Input_variables.values, Output_variable)\n",
        "model_svc = 'Svc_model.sav'\n",
        "joblib.dump(svc_app, model_svc)"
      ]
    },
    {
      "cell_type": "code",
      "execution_count": null,
      "metadata": {
        "id": "NUBDYM-9YEF5",
        "outputId": "5661ae50-debc-45d2-bb50-15675d0ad457"
      },
      "outputs": [
        {
          "data": {
            "text/plain": [
              "['Rfc_model.sav']"
            ]
          },
          "execution_count": 31,
          "metadata": {},
          "output_type": "execute_result"
        }
      ],
      "source": [
        "rfc_app = rf_opt.fit(Input_variables.values, Output_variable)\n",
        "model_rfc = 'Rfc_model.sav'\n",
        "joblib.dump(rfc_app, model_rfc)"
      ]
    },
    {
      "cell_type": "code",
      "execution_count": null,
      "metadata": {
        "id": "MsCquYgqYEF6",
        "outputId": "f470b9ff-af5a-4b28-ba61-a26cf7a6cd0f"
      },
      "outputs": [
        {
          "data": {
            "text/html": [
              "<div>\n",
              "<style scoped>\n",
              "    .dataframe tbody tr th:only-of-type {\n",
              "        vertical-align: middle;\n",
              "    }\n",
              "\n",
              "    .dataframe tbody tr th {\n",
              "        vertical-align: top;\n",
              "    }\n",
              "\n",
              "    .dataframe thead th {\n",
              "        text-align: right;\n",
              "    }\n",
              "</style>\n",
              "<table border=\"1\" class=\"dataframe\">\n",
              "  <thead>\n",
              "    <tr style=\"text-align: right;\">\n",
              "      <th></th>\n",
              "      <th>age</th>\n",
              "      <th>sex</th>\n",
              "      <th>Chest_Pain_type</th>\n",
              "      <th>resting_blood_pressure</th>\n",
              "      <th>cholestoral</th>\n",
              "      <th>fasting_blood_sugar</th>\n",
              "      <th>resting_electrocardiographic</th>\n",
              "      <th>maximum_heart_rate</th>\n",
              "      <th>exercise_induced_angina</th>\n",
              "      <th>previous_peak</th>\n",
              "      <th>number_major_vessels</th>\n",
              "      <th>thal_rate</th>\n",
              "      <th>output</th>\n",
              "    </tr>\n",
              "  </thead>\n",
              "  <tbody>\n",
              "    <tr>\n",
              "      <th>298</th>\n",
              "      <td>57</td>\n",
              "      <td>0</td>\n",
              "      <td>0</td>\n",
              "      <td>140</td>\n",
              "      <td>241</td>\n",
              "      <td>0</td>\n",
              "      <td>1</td>\n",
              "      <td>123</td>\n",
              "      <td>1</td>\n",
              "      <td>0.2</td>\n",
              "      <td>0</td>\n",
              "      <td>3</td>\n",
              "      <td>0</td>\n",
              "    </tr>\n",
              "    <tr>\n",
              "      <th>299</th>\n",
              "      <td>45</td>\n",
              "      <td>1</td>\n",
              "      <td>3</td>\n",
              "      <td>110</td>\n",
              "      <td>264</td>\n",
              "      <td>0</td>\n",
              "      <td>1</td>\n",
              "      <td>132</td>\n",
              "      <td>0</td>\n",
              "      <td>1.2</td>\n",
              "      <td>0</td>\n",
              "      <td>3</td>\n",
              "      <td>0</td>\n",
              "    </tr>\n",
              "    <tr>\n",
              "      <th>300</th>\n",
              "      <td>68</td>\n",
              "      <td>1</td>\n",
              "      <td>0</td>\n",
              "      <td>144</td>\n",
              "      <td>193</td>\n",
              "      <td>1</td>\n",
              "      <td>1</td>\n",
              "      <td>141</td>\n",
              "      <td>0</td>\n",
              "      <td>3.4</td>\n",
              "      <td>2</td>\n",
              "      <td>3</td>\n",
              "      <td>0</td>\n",
              "    </tr>\n",
              "    <tr>\n",
              "      <th>301</th>\n",
              "      <td>57</td>\n",
              "      <td>1</td>\n",
              "      <td>0</td>\n",
              "      <td>130</td>\n",
              "      <td>131</td>\n",
              "      <td>0</td>\n",
              "      <td>1</td>\n",
              "      <td>115</td>\n",
              "      <td>1</td>\n",
              "      <td>1.2</td>\n",
              "      <td>1</td>\n",
              "      <td>3</td>\n",
              "      <td>0</td>\n",
              "    </tr>\n",
              "    <tr>\n",
              "      <th>302</th>\n",
              "      <td>57</td>\n",
              "      <td>0</td>\n",
              "      <td>1</td>\n",
              "      <td>130</td>\n",
              "      <td>236</td>\n",
              "      <td>0</td>\n",
              "      <td>0</td>\n",
              "      <td>174</td>\n",
              "      <td>0</td>\n",
              "      <td>0.0</td>\n",
              "      <td>1</td>\n",
              "      <td>2</td>\n",
              "      <td>0</td>\n",
              "    </tr>\n",
              "  </tbody>\n",
              "</table>\n",
              "</div>"
            ],
            "text/plain": [
              "     age  sex  Chest_Pain_type  resting_blood_pressure  cholestoral  \\\n",
              "298   57    0                0                     140          241   \n",
              "299   45    1                3                     110          264   \n",
              "300   68    1                0                     144          193   \n",
              "301   57    1                0                     130          131   \n",
              "302   57    0                1                     130          236   \n",
              "\n",
              "     fasting_blood_sugar  resting_electrocardiographic  maximum_heart_rate  \\\n",
              "298                    0                             1                 123   \n",
              "299                    0                             1                 132   \n",
              "300                    1                             1                 141   \n",
              "301                    0                             1                 115   \n",
              "302                    0                             0                 174   \n",
              "\n",
              "     exercise_induced_angina  previous_peak  number_major_vessels  thal_rate  \\\n",
              "298                        1            0.2                     0          3   \n",
              "299                        0            1.2                     0          3   \n",
              "300                        0            3.4                     2          3   \n",
              "301                        1            1.2                     1          3   \n",
              "302                        0            0.0                     1          2   \n",
              "\n",
              "     output  \n",
              "298       0  \n",
              "299       0  \n",
              "300       0  \n",
              "301       0  \n",
              "302       0  "
            ]
          },
          "execution_count": 37,
          "metadata": {},
          "output_type": "execute_result"
        }
      ],
      "source": [
        "df.tail()"
      ]
    },
    {
      "cell_type": "markdown",
      "metadata": {
        "id": "TSOpL_5cYEF6"
      },
      "source": [
        "## User Input"
      ]
    },
    {
      "cell_type": "code",
      "execution_count": null,
      "metadata": {
        "id": "xMF-f6QjYEF6",
        "outputId": "dbdbc291-e70e-494c-9517-02ca1731ad67"
      },
      "outputs": [
        {
          "name": "stdout",
          "output_type": "stream",
          "text": [
            "Enter the age of Person Between 20 to 90 : 45\n",
            "Enter the Gender 0 for Female 1 for Male:  1\n",
            "Enter the chest_pain type between 0 to 3 : 2\n",
            "Enter the resting_blood_pressure between 80 to 220 : 88\n",
            "Enter the cholestoral between 100 to 600 : 345\n",
            "Enter the fasting_blood_sugar 0 for No and 1 for Yes : 1\n",
            "Enter the resting_electrocardiographic between 0,1 and 2 : 2\n",
            "Enter the maximum_heart_rate between 50 to 230 : 78\n",
            "Enter the exercise_induced_angina between 0 and 1 : 1\n",
            "Enter the previous_peak between 0 to 7 : 3\n",
            "Enter the number_major_vessels between 0 to 4 : 4\n",
            "Enter the thal_rate between 0 to 4 : 2\n"
          ]
        }
      ],
      "source": [
        "age=int(input(\"Enter the age of Person Between 20 to 90 : \"))\n",
        "sex=int(input(\"Enter the Gender 0 for Female 1 for Male:  \"))\n",
        "Chest_Pain_type =int(input(\"Enter the chest_pain type between 0 to 3 : \"))\n",
        "resting_blood_pressure =int(input(\"Enter the resting_blood_pressure between 80 to 220 : \"))\n",
        "cholestoral =int(input(\"Enter the cholestoral between 100 to 600 : \"))\n",
        "fasting_blood_sugar =int(input(\"Enter the fasting_blood_sugar 0 for No and 1 for Yes : \"))\n",
        "resting_electrocardiographic =int(input(\"Enter the resting_electrocardiographic between 0,1 and 2 : \"))\n",
        "maximum_heart_rate =int(input(\"Enter the maximum_heart_rate between 50 to 230 : \"))\n",
        "exercise_induced_angina =int(input(\"Enter the exercise_induced_angina between 0 and 1 : \"))\n",
        "previous_peak =float(input(\"Enter the previous_peak between 0 to 7 : \"))\n",
        "number_major_vessels =int(input(\"Enter the number_major_vessels between 0 to 4 : \"))\n",
        "thal_rate =int(input(\"Enter the thal_rate between 0 to 4 : \"))"
      ]
    },
    {
      "cell_type": "markdown",
      "metadata": {
        "id": "ADQh6YIkYEF7"
      },
      "source": [
        "## Convert User Input into array"
      ]
    },
    {
      "cell_type": "code",
      "execution_count": null,
      "metadata": {
        "id": "sQ3xgQfEYEF7",
        "outputId": "67ad4749-ad5e-457e-a5f5-1cd6a00d6bc7"
      },
      "outputs": [
        {
          "name": "stdout",
          "output_type": "stream",
          "text": [
            "[ 45.   1.   2.  88. 345.   1.   2.  78.   1.   3.   4.   2.]\n",
            "[[ 45.   1.   2.  88. 345.   1.   2.  78.   1.   3.   4.   2.]]\n"
          ]
        }
      ],
      "source": [
        "lst=[age, sex, Chest_Pain_type, resting_blood_pressure,\n",
        "       cholestoral,fasting_blood_sugar, resting_electrocardiographic,\n",
        "       maximum_heart_rate, exercise_induced_angina, previous_peak,\n",
        "       number_major_vessels, thal_rate]\n",
        "arry=np.array(lst)\n",
        "\n",
        "print(arry)\n",
        "test_array=arry.reshape(1, -1)\n",
        "print(test_array)"
      ]
    },
    {
      "cell_type": "markdown",
      "metadata": {
        "id": "FMKEw6vYYEF7"
      },
      "source": [
        "## Loading the models from disk"
      ]
    },
    {
      "cell_type": "code",
      "execution_count": null,
      "metadata": {
        "id": "SIxbv2ikYEF8"
      },
      "outputs": [],
      "source": [
        "loaded_model_svc = joblib.load(model_svc)\n",
        "loaded_model_rfc = joblib.load(model_rfc)"
      ]
    },
    {
      "cell_type": "markdown",
      "metadata": {
        "id": "ABDCvSXoYEF8"
      },
      "source": [
        "## Prediction From Both Classifiers"
      ]
    },
    {
      "cell_type": "code",
      "execution_count": null,
      "metadata": {
        "id": "RPL3P544YEF8",
        "outputId": "88eb7410-c4af-49c9-84bd-93e3cccdc7b9"
      },
      "outputs": [
        {
          "name": "stdout",
          "output_type": "stream",
          "text": [
            "Prediction with Supprt Vector Classifier:  [0]\n",
            "Prediction with Random Forest Classifier:  [0]\n"
          ]
        }
      ],
      "source": [
        "#rf_opt.predict([[63,1,3,150,240,1,1,140,0,2.5,0,1]])\n",
        "#svcc.predict([[63,1,3,150,240,1,1,140,0,2.5,0,1]])\n",
        "\n",
        "Support_Vector=loaded_model_svc.predict(test_array[[0]])\n",
        "print(\"Prediction with Supprt Vector Classifier: \",Support_Vector)\n",
        "\n",
        "Random_Forest=loaded_model_rfc.predict(test_array[[0]])\n",
        "print(\"Prediction with Random Forest Classifier: \",Random_Forest)"
      ]
    }
  ],
  "metadata": {
    "kernelspec": {
      "display_name": "Python 3 (ipykernel)",
      "language": "python",
      "name": "python3"
    },
    "language_info": {
      "codemirror_mode": {
        "name": "ipython",
        "version": 3
      },
      "file_extension": ".py",
      "mimetype": "text/x-python",
      "name": "python",
      "nbconvert_exporter": "python",
      "pygments_lexer": "ipython3",
      "version": "3.9.7"
    },
    "colab": {
      "provenance": [],
      "collapsed_sections": [
        "fs3Nrg4HYEFu",
        "sUSJc6KNYEFv",
        "tBE1SzxuYEFw",
        "a9ZrQL1_YEFy",
        "Xu5Ux2INYEFy",
        "Dy1w0t0ZYEFz",
        "XW79jGpoYEF0",
        "qWnIF_ASYEF1",
        "TO-rOMorYEF1",
        "AVz6AhwHYEF2",
        "mGGW9eUVYEF2",
        "U8H0ynljYEF3",
        "8-X-tNfIYEF3",
        "8VIKcLnoYEF4",
        "y9_ccGBSYEF4",
        "JAayaAS1YEF5",
        "zXvHQytPYEF5",
        "TSOpL_5cYEF6",
        "ADQh6YIkYEF7",
        "FMKEw6vYYEF7",
        "ABDCvSXoYEF8"
      ]
    }
  },
  "nbformat": 4,
  "nbformat_minor": 0
}